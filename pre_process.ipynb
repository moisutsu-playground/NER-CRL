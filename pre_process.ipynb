{
 "cells": [
  {
   "cell_type": "code",
   "execution_count": 5,
   "metadata": {},
   "outputs": [
    {
     "data": {
      "text/plain": [
       "['# S-ID:950101003-001',\n",
       " '村山富市首相は年頭にあたり首相官邸で内閣記者会と二十八日会見し、社会党の新民主連合所属議員の離党問題について「政権に影響を及ぼすことにはならない。離党者がいても、その範囲にとどまると思う」と述べ、大量離党には至らないとの見通しを示した。',\n",
       " '# S-ID:950101003-002',\n",
       " 'また、一九九五年中の衆院解散・総選挙の可能性に否定的な見解を表明、二十日召集予定の通常国会前の内閣改造を明確に否定した。',\n",
       " '# S-ID:950101004-002']"
      ]
     },
     "execution_count": 5,
     "metadata": {},
     "output_type": "execute_result"
    }
   ],
   "source": [
    "# CRL_UTF.origの前処理\n",
    "INPUT_FILE = \"corpus/CRL_UTF.orig\"\n",
    "OUTPUT_FILE = \"data/P_CRL.txt\"\n",
    "texts = []\n",
    "with open(\"corpus/CRL_UTF.orig\") as f:\n",
    "    texts = [line.strip() for line in f.readlines()]\n",
    "texts[:5]"
   ]
  },
  {
   "cell_type": "code",
   "execution_count": 6,
   "metadata": {},
   "outputs": [],
   "source": [
    "import re\n",
    "import os"
   ]
  },
  {
   "cell_type": "code",
   "execution_count": 7,
   "metadata": {},
   "outputs": [],
   "source": [
    "os.makedirs(\"data\", exist_ok=True)"
   ]
  },
  {
   "cell_type": "code",
   "execution_count": 8,
   "metadata": {},
   "outputs": [],
   "source": [
    "# 文章ごとにリストに格納\n",
    "pattern = re.compile(pattern=r\"#\\sS-ID:(\\d+)-\\d+\")\n",
    "prev_num = pattern.findall(texts[0])[0]\n",
    "sentences = [\"\"]\n",
    "tmp_text = \"\"\n",
    "for i in range(0, len(texts) - 1, 2):\n",
    "    if not prev_num == pattern.findall(texts[i])[0]:\n",
    "        sentences.append(\"\")\n",
    "    prev_num = pattern.findall(texts[i])[0]\n",
    "    sentences[len(sentences) - 1] += texts[i + 1]\n"
   ]
  },
  {
   "cell_type": "code",
   "execution_count": 9,
   "metadata": {},
   "outputs": [],
   "source": [
    "# 文章ごとにMeCabで構文解析を行いファイルに格納\n",
    "import MeCab"
   ]
  },
  {
   "cell_type": "code",
   "execution_count": 10,
   "metadata": {},
   "outputs": [
    {
     "data": {
      "text/plain": [
       "'\\n'"
      ]
     },
     "execution_count": 10,
     "metadata": {},
     "output_type": "execute_result"
    }
   ],
   "source": [
    "mecab = MeCab.Tagger(\"-Owakati -d /usr/local/lib/mecab/dic/mecab-ipadic-neologd\")\n",
    "mecab.parse(\"\")"
   ]
  },
  {
   "cell_type": "code",
   "execution_count": 11,
   "metadata": {},
   "outputs": [],
   "source": [
    "with open(OUTPUT_FILE, mode=\"w\") as f:\n",
    "    for sentence in sentences:\n",
    "        f.write(mecab.parse(sentence) + \"\\n\")"
   ]
  },
  {
   "cell_type": "code",
   "execution_count": 12,
   "metadata": {},
   "outputs": [
    {
     "data": {
      "text/plain": [
       "['@ 0 4 <PERSON> </PERSON> 村山富市',\n",
       " '@ 7 9 <DATE> </DATE> 年頭',\n",
       " '@ 13 17 <LOCATION> </LOCATION> 首相官邸',\n",
       " '@ 18 23 <ORGANIZATION> </ORGANIZATION> 内閣記者会',\n",
       " '@ 24 28 <DATE> </DATE> 二十八日',\n",
       " '@ 32 35 <ORGANIZATION> </ORGANIZATION> 社会党',\n",
       " '@ 36 41 <ORGANIZATION> </ORGANIZATION> 新民主連合',\n",
       " '@ 121 126 <DATE> </DATE> 一九九五年',\n",
       " '@ 128 130 <ORGANIZATION> </ORGANIZATION> 衆院',\n",
       " '@ 151 154 <DATE> </DATE> 二十日']"
      ]
     },
     "execution_count": 12,
     "metadata": {},
     "output_type": "execute_result"
    }
   ],
   "source": [
    "# CRL_NE_DATA_UTF.idxの前処理\n",
    "INPUT_FILE = \"corpus/CRL_NE_DATA_UTF.idx\"\n",
    "OUTPUT_FILE = \"data/P_CRL_TAG.txt\"\n",
    "texts = []\n",
    "with open(INPUT_FILE) as f:\n",
    "    texts = [line.strip() for line in f.readlines()[14:]]\n",
    "texts[:10]"
   ]
  },
  {
   "cell_type": "code",
   "execution_count": 19,
   "metadata": {},
   "outputs": [],
   "source": [
    "pattern = re.compile(pattern=r\"@\\s(\\d+)\\s(\\d+)\\s<.+>\\s</(\\w+)>\\s(.+)\")\n",
    "with open(OUTPUT_FILE, mode=\"w\") as f:\n",
    "    for line in texts:\n",
    "        if pattern.match(line):\n",
    "            start, end, tag, entity = pattern.match(line).groups()\n",
    "            f.write(f\"{start} {int(end) - 1} {tag} {entity}\\n\")\n",
    "        else:\n",
    "            f.write(\"\\n\")"
   ]
  },
  {
   "cell_type": "code",
   "execution_count": 35,
   "metadata": {},
   "outputs": [],
   "source": [
    "# 作成した2つのファイルから正解ラベルのデータを作成する\n",
    "INPUT_CRL = \"data/P_CRL.txt\"\n",
    "INPUT_TAG = \"data/P_CRL_TAG.txt\"\n",
    "OUTPUT_FILE = \"data/LABEL.txt\"\n",
    "\n",
    "# crl_texts と tags の同じインデックスは同じ文書を表している\n",
    "\n",
    "crl_texts = []\n",
    "with open(INPUT_CRL) as f:\n",
    "    crl_texts = [line.strip() for line in f.readlines() if line != \"\\n\"]\n",
    "\n",
    "# 二次配列\n",
    "tags = []\n",
    "with open(INPUT_TAG) as f:\n",
    "    tmp_tags = []\n",
    "    for line in f.readlines():\n",
    "        if line == \"\\n\":\n",
    "            tags.append(tmp_tags)\n",
    "            tmp_tags = []\n",
    "        else:\n",
    "            start, end, tag, entity = line.strip().split()\n",
    "            tmp_tags.append((int(start), int(end), tag))\n",
    "    tags.append(tmp_tags)"
   ]
  },
  {
   "cell_type": "code",
   "execution_count": 48,
   "metadata": {},
   "outputs": [],
   "source": [
    "with open(OUTPUT_FILE, mode=\"w\") as f:\n",
    "    for i in range(len(tags)):\n",
    "        total_length = 0\n",
    "        tokens = crl_texts[i].split()\n",
    "        # タグの始まりのインデックスのリスト\n",
    "        starts = [elem[0] for elem in tags[i]]\n",
    "        j = 0\n",
    "        while j < len(tokens):\n",
    "            if not total_length in starts:\n",
    "                f.write(f\"{tokens[j]} O\\n\")\n",
    "                total_length += len(tokens[j])\n",
    "                j += 1\n",
    "            else:\n",
    "                l_i = starts.index(total_length)\n",
    "                f.write(f\"{tokens[j]} B_{tags[i][l_i][2]}\\n\")\n",
    "                total_length += len(tokens[j])\n",
    "                j += 1\n",
    "                end = tags[i][l_i][1]\n",
    "                while total_length <= end:\n",
    "                    f.write(f\"{tokens[j]} I_{tags[i][l_i][2]}\\n\")\n",
    "                    total_length += len(tokens[j])\n",
    "                    j += 1\n",
    "        f.write(\"\\n\")\n",
    "        "
   ]
  },
  {
   "cell_type": "code",
   "execution_count": null,
   "metadata": {},
   "outputs": [],
   "source": []
  }
 ],
 "metadata": {
  "kernelspec": {
   "display_name": "Python 3",
   "language": "python",
   "name": "python3"
  },
  "language_info": {
   "codemirror_mode": {
    "name": "ipython",
    "version": 3
   },
   "file_extension": ".py",
   "mimetype": "text/x-python",
   "name": "python",
   "nbconvert_exporter": "python",
   "pygments_lexer": "ipython3",
   "version": "3.8.0"
  }
 },
 "nbformat": 4,
 "nbformat_minor": 4
}
